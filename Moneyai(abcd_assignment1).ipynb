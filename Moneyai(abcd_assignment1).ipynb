{
  "nbformat": 4,
  "nbformat_minor": 0,
  "metadata": {
    "colab": {
      "provenance": []
    },
    "kernelspec": {
      "name": "python3",
      "display_name": "Python 3"
    },
    "language_info": {
      "name": "python"
    }
  },
  "cells": [
    {
      "cell_type": "code",
      "execution_count": 2,
      "metadata": {
        "colab": {
          "base_uri": "https://localhost:8080/",
          "height": 53
        },
        "id": "oCbQZTWfpf2e",
        "outputId": "5f3f52f3-8673-4b6a-a8f3-6ba3c91f4325"
      },
      "outputs": [
        {
          "output_type": "execute_result",
          "data": {
            "text/plain": [
              "'/content/trading_analysis_with_charts(assignment1_abcd).xlsx'"
            ],
            "application/vnd.google.colaboratory.intrinsic+json": {
              "type": "string"
            }
          },
          "metadata": {},
          "execution_count": 2
        },
        {
          "output_type": "display_data",
          "data": {
            "text/plain": [
              "<Figure size 800x600 with 0 Axes>"
            ]
          },
          "metadata": {}
        }
      ],
      "source": [
        "import pandas as pd\n",
        "import numpy as np\n",
        "import seaborn as sns\n",
        "import matplotlib.pyplot as plt\n",
        "from openpyxl import Workbook\n",
        "from openpyxl.utils.dataframe import dataframe_to_rows\n",
        "from openpyxl.drawing.image import Image\n",
        "import os\n",
        "\n",
        "# Load dataset\n",
        "df = pd.read_csv('/content/trading_data.csv')\n",
        "\n",
        "# Data preparation\n",
        "df['Date'] = pd.to_datetime(df['Date'])\n",
        "df['Direction'] = df['Direction'].map({'Buy': 1, 'Sell': -1})\n",
        "df['Profit_Loss'] = (df['Exit_Price'] - df['Entry_Price']) * df['Quantity'] * df['Direction']\n",
        "\n",
        "# Function to create charts\n",
        "def create_charts(data):\n",
        "    charts = {}\n",
        "\n",
        "    # 1. Profit/Loss Distribution\n",
        "    plt.figure(figsize=(8, 6))\n",
        "    sns.histplot(data['Profit_Loss'], kde=True, bins=30, color='blue')\n",
        "    plt.title('Distribution of Profit/Loss')\n",
        "    plt.xlabel('Profit/Loss')\n",
        "    plt.ylabel('Frequency')\n",
        "    chart_path1 = '/content/profit_loss_distribution.png'\n",
        "    plt.savefig(chart_path1)\n",
        "    plt.close()\n",
        "    charts['Profit/Loss Distribution'] = chart_path1\n",
        "\n",
        "    # 2. SL% and Trgt% Comparison\n",
        "    plt.figure(figsize=(8, 6))\n",
        "    sns.boxplot(data=data[['SL%', 'Trgt%']])\n",
        "    plt.title('Comparison of SL% and Trgt%')\n",
        "    chart_path2 = '/content/sl_target_comparison.png'\n",
        "    plt.savefig(chart_path2)\n",
        "    plt.close()\n",
        "    charts['SL and Target Comparison'] = chart_path2\n",
        "\n",
        "    # 3. Correlation Heatmap\n",
        "    plt.figure(figsize=(8, 6))\n",
        "    correlations = data[['Entry_PCR', 'Exit_PCR', 'SL%', 'Trgt%', 'Profit_Loss']].corr()\n",
        "    sns.heatmap(correlations, annot=True, cmap='coolwarm')\n",
        "    plt.title('Correlations Heatmap')\n",
        "    chart_path3 = '/content/correlations_heatmap.png'\n",
        "    plt.savefig(chart_path3)\n",
        "    plt.close()\n",
        "    charts['Correlations Heatmap'] = chart_path3\n",
        "\n",
        "    # 4. Average Metrics by Index\n",
        "    metrics_by_index = data.groupby('Index')[['SL%', 'Trgt%', 'Profit_Loss']].mean().reset_index()\n",
        "    plt.figure(figsize=(8, 6))\n",
        "    metrics_by_index.plot(x='Index', kind='bar', figsize=(10, 6))\n",
        "    plt.title('Average Metrics by Index')\n",
        "    plt.xlabel('Index')\n",
        "    plt.ylabel('Average Values')\n",
        "    plt.xticks(rotation=45)\n",
        "    chart_path4 = '/content/average_metrics_by_index.png'\n",
        "    plt.savefig(chart_path4)\n",
        "    plt.close()\n",
        "    charts['Average Metrics by Index'] = chart_path4\n",
        "\n",
        "    return charts\n",
        "\n",
        "# Generate charts\n",
        "charts = create_charts(df)\n",
        "\n",
        "# Save results to Excel\n",
        "output_file = \"/content/trading_analysis_with_charts(assignment1_abcd).xlsx\"\n",
        "\n",
        "with pd.ExcelWriter(output_file, engine='openpyxl') as writer:\n",
        "    # Raw Data\n",
        "    df.to_excel(writer, sheet_name='Raw Data', index=False)\n",
        "\n",
        "    # Strategy Summary\n",
        "    strategy_summary = {\n",
        "        \"Average Entry PCR\": df['Entry_PCR'].mean(),\n",
        "        \"Average Exit PCR\": df['Exit_PCR'].mean(),\n",
        "        \"Average SL%\": df['SL%'].mean(),\n",
        "        \"Average Trgt%\": df['Trgt%'].mean(),\n",
        "        \"Total Trades\": len(df),\n",
        "        \"Total Profit/Loss\": df['Profit_Loss'].sum()\n",
        "    }\n",
        "    summary_df = pd.DataFrame(strategy_summary.items(), columns=['Metric', 'Value'])\n",
        "    summary_df.to_excel(writer, sheet_name='Strategy Summary', index=False)\n",
        "\n",
        "    # Correlations\n",
        "    correlations = df[['Entry_PCR', 'Exit_PCR', 'SL%', 'Trgt%', 'Profit_Loss']].corr()\n",
        "    correlations.to_excel(writer, sheet_name='Correlations')\n",
        "\n",
        "    # Add Charts Sheet\n",
        "    workbook = writer.book\n",
        "    charts_sheet = workbook.create_sheet(title=\"Charts\")\n",
        "\n",
        "    # Add chart images to Charts sheet\n",
        "    for idx, (chart_title, chart_path) in enumerate(charts.items(), start=1):\n",
        "        img = Image(chart_path)\n",
        "        img.anchor = f'A{(idx - 1) * 20 + 1}'  # Position each chart sequentially\n",
        "        charts_sheet.add_image(img)\n",
        "\n",
        "# Confirm Excel file creation\n",
        "output_file if os.path.exists(output_file) else \"Error creating file\"\n"
      ]
    }
  ]
}